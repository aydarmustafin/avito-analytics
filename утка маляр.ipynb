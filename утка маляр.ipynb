{
 "cells": [
  {
   "cell_type": "code",
   "execution_count": 43,
   "metadata": {},
   "outputs": [
    {
     "name": "stdout",
     "output_type": "stream",
     "text": [
      "Утка-маляр 🦆 решила выпить зайти в бар. Взять ей зонтик? ☂️\n",
      "Выберите: да/нет\n",
      "да\n",
      "\n",
      "А на улице 🌃 есть дождик? 💦\n",
      "Выберите: да/нет\n",
      "нет\n",
      "\n",
      "\n",
      "тогда зачем мне зонтик лее ты чее ээ\n"
     ]
    },
    {
     "data": {
      "text/html": [
       "<img src=\"https://bit.ly/2YRu60Q\" width=\"400\"/>"
      ],
      "text/plain": [
       "<IPython.core.display.Image object>"
      ]
     },
     "metadata": {},
     "output_type": "display_data"
    }
   ],
   "source": [
    "from IPython.display import Image\n",
    "\n",
    "\n",
    "def step2_no_umbrella():\n",
    "    print(\n",
    "        '\\nА на улице 🌃 есть дождик? 💦'\n",
    "    )\n",
    "    option = ''\n",
    "    options = {'да': True, 'нет': False}\n",
    "    while option not in options:\n",
    "        print('Выберите: {}/{}'.format(*options))\n",
    "        option = input()\n",
    "    if options[option]:\n",
    "        print('\\n\\nя же заболею ты че')\n",
    "        display(Image(\n",
    "            url='https://bit.ly/3lkXUKD',\n",
    "            width=400))\n",
    "    else:\n",
    "        print('\\n\\nооо тогда пойду нажруся')\n",
    "        display(Image(\n",
    "            url='https://bit.ly/3nsEC90',\n",
    "            width=400))\n",
    "\n",
    "\n",
    "def step2_umbrella():\n",
    "    print(\n",
    "        '\\nА на улице 🌃 есть дождик? 💦'\n",
    "    )\n",
    "    option = ''\n",
    "    options = {'да': True, 'нет': False}\n",
    "    while option not in options:\n",
    "        print('Выберите: {}/{}'.format(*options))\n",
    "        option = input()\n",
    "    if options[option]:\n",
    "        print('\\n\\nок пойду нажруся')\n",
    "        display(Image(\n",
    "            url='https://bit.ly/3tBSvTj',\n",
    "            width=400))\n",
    "    else:\n",
    "        print('\\n\\nтогда зачем мне зонтик лее ты чее ээ')\n",
    "        display(Image(\n",
    "            url='https://bit.ly/2YRu60Q',\n",
    "            width=400))\n",
    "\n",
    "\n",
    "def step1():\n",
    "    print(\n",
    "        'Утка-маляр 🦆 решила выпить зайти в бар. '\n",
    "        'Взять ей зонтик? ☂️'\n",
    "    )\n",
    "    option = ''\n",
    "    options = {'да': True, 'нет': False}\n",
    "    while option not in options:\n",
    "        print('Выберите: {}/{}'.format(*options))\n",
    "        option = input()\n",
    "    if options[option]:\n",
    "        return step2_umbrella()\n",
    "    return step2_no_umbrella()\n",
    "\n",
    "\n",
    "if __name__ == '__main__':\n",
    "    step1()\n"
   ]
  },
  {
   "cell_type": "code",
   "execution_count": null,
   "metadata": {},
   "outputs": [],
   "source": []
  }
 ],
 "metadata": {
  "kernelspec": {
   "display_name": "Python 3",
   "language": "python",
   "name": "python3"
  },
  "language_info": {
   "codemirror_mode": {
    "name": "ipython",
    "version": 3
   },
   "file_extension": ".py",
   "mimetype": "text/x-python",
   "name": "python",
   "nbconvert_exporter": "python",
   "pygments_lexer": "ipython3",
   "version": "3.8.5"
  }
 },
 "nbformat": 4,
 "nbformat_minor": 4
}
